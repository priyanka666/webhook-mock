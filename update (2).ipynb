{
 "cells": [
  {
   "cell_type": "code",
   "execution_count": 7,
   "metadata": {},
   "outputs": [],
   "source": [
    "import csv\n",
    "import pymongo\n",
    "import dateutil.parser as parser\n",
    "import pytz\n",
    "import json\n",
    "import bson.json_util\n",
    "from bson.objectid import ObjectId\n",
    "\n",
    "mongo_host = \"mongodb://localhost:27017/\"\n",
    "db_name = \"flow_results\"\n",
    "col_name = \"flow_96026744_100\"\n"
   ]
  },
  {
   "cell_type": "code",
   "execution_count": 2,
   "metadata": {},
   "outputs": [],
   "source": [
    "with open(\"Numerica_100.json\",'r') as f:\n",
    "    temp = f.readlines()\n",
    "\n",
    "data = []\n",
    "count = 0\n",
    "for i in temp:\n",
    "    data.append(json.loads(i))"
   ]
  },
  {
   "cell_type": "code",
   "execution_count": 3,
   "metadata": {},
   "outputs": [],
   "source": [
    "def mongo_insert(data):\n",
    "    client = pymongo.MongoClient(mongo_host)\n",
    "    db = client[db_name]\n",
    "    col = db[col_name]\n",
    "    col.insert_one(data)    "
   ]
  },
  {
   "cell_type": "code",
   "execution_count": 4,
   "metadata": {},
   "outputs": [],
   "source": [
    "for i in range(len(data)):\n",
    "    temp = ObjectId()\n",
    "    data[i]['_id']['$oid'] = str(temp)"
   ]
  },
  {
   "cell_type": "code",
   "execution_count": 8,
   "metadata": {},
   "outputs": [
    {
     "name": "stdout",
     "output_type": "stream",
     "text": [
      "done\n"
     ]
    }
   ],
   "source": [
    "count = 0\n",
    "for i in data:\n",
    "    if count<10:\n",
    "        mongo_insert(bson.json_util.loads(json.dumps(i)))\n",
    "        count+=1\n",
    "    else:\n",
    "        break\n",
    "print(\"done\")"
   ]
  },
  {
   "cell_type": "code",
   "execution_count": 9,
   "metadata": {},
   "outputs": [
    {
     "name": "stdout",
     "output_type": "stream",
     "text": [
      "done\n",
      "done\n",
      "done\n",
      "done\n",
      "done\n",
      "done\n"
     ]
    }
   ],
   "source": [
    "for k in range(0,6):\n",
    "    for i in range(len(data)):\n",
    "        temp = ObjectId()\n",
    "        data[i]['_id']['$oid'] = str(temp)\n",
    "\n",
    "    for i in data:\n",
    "        mongo_insert(bson.json_util.loads(json.dumps(i)))\n",
    "    print(\"done\")"
   ]
  }
 ],
 "metadata": {
  "kernelspec": {
   "display_name": "Python 3.6.8 ('venv')",
   "language": "python",
   "name": "python3"
  },
  "language_info": {
   "codemirror_mode": {
    "name": "ipython",
    "version": 3
   },
   "file_extension": ".py",
   "mimetype": "text/x-python",
   "name": "python",
   "nbconvert_exporter": "python",
   "pygments_lexer": "ipython3",
   "version": "3.6.8"
  },
  "vscode": {
   "interpreter": {
    "hash": "be4106a50c394e7af7a49dbc870fce871e8f6e78cd15966c66c74b9f546720f2"
   }
  }
 },
 "nbformat": 4,
 "nbformat_minor": 2
}
